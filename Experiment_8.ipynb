{
 "cells": [
  {
   "cell_type": "code",
   "execution_count": 3,
   "metadata": {},
   "outputs": [
    {
     "name": "stdout",
     "output_type": "stream",
     "text": [
      "Mean Square Error(0.2<x<0.5)= 0.037233644562\n",
      "r2Score (x>.7)= 0.946724514935\n"
     ]
    }
   ],
   "source": [
    "from sklearn import linear_model\n",
    "from sklearn.model_selection import train_test_split\n",
    "from sklearn.datasets import load_iris\n",
    "from sklearn.metrics import mean_squared_error,r2_score\n",
    "irisData = load_iris()\n",
    "X = irisData.data\n",
    "y = irisData.target\n",
    "x_train, x_test, y_train, y_test = train_test_split(X, y, test_size =.2, random_state=42)\n",
    "model=linear_model.LinearRegression()\n",
    "model.fit(x_train,y_train)\n",
    "y_pred=model.predict(x_test)\n",
    "y_pred_train=model.predict(x_train)\n",
    "print(\"Mean Square Error(0.2<x<0.5)=\",mean_squared_error(y_test,y_pred))\n",
    "print(\"r2Score (x>.7)=\",r2_score(y_test,y_pred))"
   ]
  },
  {
   "cell_type": "code",
   "execution_count": null,
   "metadata": {
    "collapsed": true
   },
   "outputs": [],
   "source": []
  }
 ],
 "metadata": {
  "kernelspec": {
   "display_name": "Python 3",
   "language": "python",
   "name": "python3"
  },
  "language_info": {
   "codemirror_mode": {
    "name": "ipython",
    "version": 3
   },
   "file_extension": ".py",
   "mimetype": "text/x-python",
   "name": "python",
   "nbconvert_exporter": "python",
   "pygments_lexer": "ipython3",
   "version": "3.6.3"
  }
 },
 "nbformat": 4,
 "nbformat_minor": 2
}
